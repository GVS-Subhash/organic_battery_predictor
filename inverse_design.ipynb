{
 "cells": [
  {
   "cell_type": "code",
   "execution_count": null,
   "metadata": {},
   "outputs": [],
   "source": [
    "import os\n",
    "\n",
    "if \"CUDA_VISIBLE_DEVICES\" not in os.environ:\n",
    "    os.environ[\"CUDA_VISIBLE_DEVICES\"] = \"0\"\n",
    "import tensorflow as tf\n",
    "\n",
    "gpus = tf.config.experimental.list_physical_devices(\"GPU\")\n",
    "if gpus:\n",
    "    for gpu in gpus:\n",
    "        tf.config.experimental.set_memory_growth(\n",
    "            gpu, True\n",
    "        )  # Limiting the memory growth\n",
    "    logical_gpus = tf.config.experimental.list_logical_devices(\"GPU\")\n",
    "    print(len(gpus), \"Physical GPUs,\", len(logical_gpus), \"Logical GPUs\")\n",
    "\n",
    "from pathlib import Path\n",
    "import numpy as np\n",
    "import pandas as pd\n",
    "\n",
    "import random\n",
    "import matplotlib.pyplot as plt \n",
    "import tensorflow as tf \n",
    "import psmiles \n",
    "import rdkit\n",
    "from rdkit import Chem \n",
    "from rdkit.Chem import Draw \n",
    "import itertools\n"
   ]
  },
  {
   "cell_type": "markdown",
   "metadata": {},
   "source": [
    "Moieties"
   ]
  },
  {
   "cell_type": "code",
   "execution_count": 2,
   "metadata": {},
   "outputs": [],
   "source": [
    "import itertools\n",
    "\n",
    "replacement_elements_0 = ['S','*-C=O','CS','C','CN','O','N']\n",
    "replacement_elements_1 = ['[H]C(=O)O-*','FC(F)F','C(=O)Cl','NC(=O)']\n",
    "replacement_elements_2 = ['(COOH)','(=C=C=0)','(=S)','(CF3)','(C(=O)Cl)','(NC(=O))']\n",
    "replacement_elements_3 = ['(S)', '(=N)', '(=O)','(-C=0)','(#N)','(C#N)','(CS)','(SC)','(C)','(CN)','(O)','(N)']\n",
    "\n",
    "end_groups_redox=[]\n",
    "\n",
    "end_groups_redox += replacement_elements_0,replacement_elements_1,replacement_elements_2,replacement_elements_3\n",
    "\n",
    "end_groups_redoxh=list(itertools.chain.from_iterable(end_groups_redox))"
   ]
  },
  {
   "cell_type": "code",
   "execution_count": 3,
   "metadata": {},
   "outputs": [],
   "source": [
    "end_groups_redoxh += \"C(=O)O\", \"C(=O)OC\""
   ]
  },
  {
   "cell_type": "markdown",
   "metadata": {},
   "source": [
    "Taking the reference candidates"
   ]
  },
  {
   "cell_type": "code",
   "execution_count": 187,
   "metadata": {},
   "outputs": [],
   "source": [
    "k = dict(\n",
    "    name=[\n",
    "        \"name of the organic material\"\n",
    "    ],\n",
    "    smiles=[\n",
    "        \"SMILES string\"\n",
    "    ]\n",
    "\n",
    ")"
   ]
  },
  {
   "cell_type": "markdown",
   "metadata": {},
   "source": [
    "Iterative addition of the redox-active moieties with reference candidates"
   ]
  },
  {
   "cell_type": "code",
   "execution_count": 7,
   "metadata": {},
   "outputs": [],
   "source": [
    "side='&'\n",
    "back='^'\n",
    "\n",
    "from itertools import permutations\n",
    "\n",
    "def generate_all_combinations(base_string, inserts):\n",
    "    results = set()  # \n",
    "    # Single insertions\n",
    "    for insert in inserts:\n",
    "        for i in range(len(base_string) + 1):\n",
    "            results.add(base_string[:i] + insert + base_string[i:])\n",
    "\n",
    "    # Multiple insertions\n",
    "    for r in range(2, len(inserts) + 1):\n",
    "        for perm in permutations(inserts, r):\n",
    "            current = [base_string]\n",
    "            for insert in perm:\n",
    "                new_combinations = []\n",
    "                for s in current:\n",
    "                    for i in range(len(s) + 1):\n",
    "                        new_combinations.append(s[:i] + insert + s[i:])\n",
    "                current = new_combinations\n",
    "            results.update(current) \n",
    "    \n",
    "    return sorted(results) "
   ]
  },
  {
   "cell_type": "code",
   "execution_count": 8,
   "metadata": {},
   "outputs": [],
   "source": [
    "import itertools\n",
    "inserts=[back,side]\n",
    "\n",
    "for name,smile in zip(k['name'],k['smiles']):\n",
    "    combinations=generate_all_combinations(smile,inserts)\n",
    "    backbone_sidechain = []\n",
    "    for init in combinations:\n",
    "        if '^' in init and '&' in init:\n",
    "            for side,back in itertools.permutations(end_groups_redoxh,2):\n",
    "                for num_back in range(1,3):\n",
    "                    temp_back= init.replace(\"^\", back * num_back)\n",
    "                    for num_side in range(1,3):\n",
    "                        repl = \"(\" +  num_side*side + \")\"\n",
    "                        temp_side = temp_back.replace(\"&\", repl)\n",
    "                        backbone_sidechain.append(temp_side)\n",
    "        elif '&' in init and '^' not in init:\n",
    "            for side in end_groups_redoxh:\n",
    "                for num_side in range(1,3):\n",
    "                    repl = \"(\" +  num_side*side + \")\"\n",
    "                    temp_side = init.replace(\"&\", repl)\n",
    "                    backbone_sidechain.append(temp_side)\n",
    "        elif '&' not in init and '^' in init:\n",
    "            for back in end_groups_redoxh:\n",
    "                for num_back in range(1,3):\n",
    "                    temp_back= init.replace(\"^\", back * num_back)\n",
    "                    backbone_sidechain.append(temp_back)\n",
    "        else:\n",
    "            continue\n",
    "    df=pd.DataFrame(backbone_sidechain,columns=['smiles'])\n",
    "    df=df.dropna(axis=0,ignore_index=True)"
   ]
  },
  {
   "cell_type": "markdown",
   "metadata": {},
   "source": [
    "Verifying and storing the correct polymer SMILES"
   ]
  },
  {
   "cell_type": "code",
   "execution_count": null,
   "metadata": {},
   "outputs": [],
   "source": [
    "import psmiles \n",
    "from psmiles import PolymerSmiles as ps\n",
    "def verify_smiles(row):\n",
    "    try:\n",
    "        s=ps(row)\n",
    "    except:\n",
    "        s=None\n",
    "    return s.psmiles\n",
    "\n",
    "df['smiles']=df['smiles'].apply(verify_smiles)"
   ]
  },
  {
   "cell_type": "markdown",
   "metadata": {},
   "source": [
    "Fingerprinting with sentence transformers "
   ]
  },
  {
   "cell_type": "code",
   "execution_count": null,
   "metadata": {},
   "outputs": [],
   "source": [
    "import sentence_transformers \n",
    "from sentence_transformers import SentenceTransformer\n",
    "\n",
    "sms=list(df['smiles'])\n",
    "polyBERT = SentenceTransformer(\"kuelumbus/polyBERT\")\n",
    "fps=polyBERT.encode(sms, show_progress_bar=False)\n",
    "df['fps']=list(fps)"
   ]
  },
  {
   "cell_type": "markdown",
   "metadata": {},
   "source": [
    "Concatenation with the selector vector (for voltage and specific capacity with lithium charge carrier at 1C and 50% active material content )"
   ]
  },
  {
   "cell_type": "code",
   "execution_count": null,
   "metadata": {},
   "outputs": [],
   "source": [
    "df['selector_sc']=[[0.5,1.0,0.0,1.0,1.0]]*len(df)\n",
    "df['selector_v']=[[0.5,0.0,0.0,1.0,0.0]]*len(df)"
   ]
  },
  {
   "cell_type": "code",
   "execution_count": null,
   "metadata": {},
   "outputs": [],
   "source": [
    "sc = list(df.apply(lambda row: np.concatenate([row['fps'], row['selector_sc']]), axis=1))\n",
    "v = list(df.apply(lambda row: np.concatenate([row['fps'], row['selector_v']]), axis=1))"
   ]
  },
  {
   "cell_type": "markdown",
   "metadata": {},
   "source": [
    "Property prediction by the meta-learner model "
   ]
  },
  {
   "cell_type": "code",
   "execution_count": null,
   "metadata": {},
   "outputs": [],
   "source": [
    "model = tf.keras.models.load_model('load your keras model here')\n",
    "\n",
    "voltage_predictions = model.predict(tf.convert_to_tensor(v))\n",
    "capacity_predictions = model.predict(tf.convert_to_tensor(sc))"
   ]
  }
 ],
 "metadata": {
  "kernelspec": {
   "display_name": ".venv",
   "language": "python",
   "name": "python3"
  },
  "language_info": {
   "codemirror_mode": {
    "name": "ipython",
    "version": 3
   },
   "file_extension": ".py",
   "mimetype": "text/x-python",
   "name": "python",
   "nbconvert_exporter": "python",
   "pygments_lexer": "ipython3",
   "version": "3.12.8"
  }
 },
 "nbformat": 4,
 "nbformat_minor": 2
}
